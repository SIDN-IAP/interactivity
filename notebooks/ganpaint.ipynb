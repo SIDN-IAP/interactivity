{
 "cells": [
  {
   "cell_type": "markdown",
   "metadata": {},
   "source": [
    "# Colab dependencies"
   ]
  },
  {
   "cell_type": "code",
   "execution_count": null,
   "metadata": {},
   "outputs": [],
   "source": [
    "%%bash\n",
    "!(stat -t /usr/local/lib/*/dist-packages/google/colab > /dev/null 2>&1) && exit \n",
    "pip install ninja\n",
    "git clone https://github.com/SIDN-IAP/interactivity.git tutorial_code"
   ]
  },
  {
   "cell_type": "code",
   "execution_count": null,
   "metadata": {},
   "outputs": [],
   "source": [
    "try:\n",
    "    import google.colab, sys, torch\n",
    "    sys.path.append('/content/tutorial_code')\n",
    "    print(\"GPU available\" if torch.cuda.is_available()\n",
    "          else \"Change runtime type to include a GPU.\")\n",
    "except:\n",
    "    pass"
   ]
  },
  {
   "cell_type": "markdown",
   "metadata": {},
   "source": [
    "# Import packages"
   ]
  },
  {
   "cell_type": "code",
   "execution_count": null,
   "metadata": {},
   "outputs": [],
   "source": [
    "from netdissect import nethook, setting, renormalize, zdataset, paintwidget, labwidget, show"
   ]
  },
  {
   "cell_type": "markdown",
   "metadata": {},
   "source": [
    "# Load a GAN generator"
   ]
  },
  {
   "cell_type": "code",
   "execution_count": null,
   "metadata": {},
   "outputs": [],
   "source": [
    "# Load a generator, and paint random image number 20 in a widget.\n",
    "G = nethook.InstrumentedModel(setting.load_proggan('church')).cuda()\n",
    "probe_z = zdataset.z_sample_for_model(G, 1000)[13][None].cuda()"
   ]
  },
  {
   "cell_type": "markdown",
   "metadata": {},
   "source": [
    "# Create Probing Widget"
   ]
  },
  {
   "cell_type": "code",
   "execution_count": null,
   "metadata": {},
   "outputs": [],
   "source": [
    "prober = paintwidget.PaintWidget(image=renormalize.as_url(G(probe_z)[0]))\n",
    "output_div = labwidget.Div()\n",
    "\n",
    "LAYERNAME = 'layer5'\n",
    "SELECTED_UNITS = []\n",
    "SELECTED_VALUES = []\n",
    "\n",
    "\n",
    "G.retain_layer(LAYERNAME)\n",
    "G(probe_z)\n",
    "activations = G.retained_layer(LAYERNAME)\n",
    "\n",
    "def probe_changed(c):\n",
    "    if not prober.mask: return\n",
    "    area = renormalize.from_url(prober.mask, target='pt', size=activations.shape[2:])[0]\n",
    "    if area.sum() <= 0.0: return\n",
    "    prober.mask = ''\n",
    "    mean = (activations.cpu()[0] * area[None]).sum(2).sum(1) / (area.sum() + 1e-8)\n",
    "    value, order = mean.sort(0, descending=True)\n",
    "    global SELECTED_UNITS, SELECTED_VALUES\n",
    "    SELECTED_UNITS = [o.item() for o in order[:10]]\n",
    "    SELECTED_VALUES = [v.item() for v in value[:10]]\n",
    "    output_div.innerHTML = ''\n",
    "    output_div.print('SELECTED_UNITS:', SELECTED_UNITS)\n",
    "    output_div.print('SELECTED_VALUES:', [float('%.2f' % v) for v in SELECTED_VALUES])\n",
    "prober.on('mask', probe_changed)\n",
    "\n",
    "show(prober)\n",
    "show(output_div)\n"
   ]
  },
  {
   "cell_type": "markdown",
   "metadata": {},
   "source": [
    "# Create Painting Widget"
   ]
  },
  {
   "cell_type": "code",
   "execution_count": null,
   "metadata": {
    "scrolled": true
   },
   "outputs": [],
   "source": [
    "import torch\n",
    "\n",
    "G.remove_edits()\n",
    "canvas_z = zdataset.z_sample_for_model(G, 1000)[70][None].cuda()\n",
    "canvas = paintwidget.PaintWidget(image=renormalize.as_url(G(canvas_z)[0]))\n",
    "\n",
    "def canvas_changed(c):\n",
    "    global SELECTED_UNITS, SELECTED_VALUES\n",
    "    if not canvas.mask: return\n",
    "    area = renormalize.from_url(canvas.mask, target='pt', size=activations.shape[2:])[0]\n",
    "    def editrule(x, imodel, **buffers):\n",
    "        x[:,SELECTED_UNITS] += (area[None] * torch.Tensor(SELECTED_VALUES)[:,None,None]).to(x.device)\n",
    "        return x\n",
    "    G.edit_layer(LAYERNAME, rule=editrule)\n",
    "    canvas.mask, canvas.image = '', renormalize.as_url(G(canvas_z)[0])\n",
    "    canvas.mask = ''\n",
    "    return\n",
    "    G.remove_edits()\n",
    "canvas.on('mask', canvas_changed)\n",
    "canvas.brushsize=10\n",
    "show(canvas)"
   ]
  }
 ],
 "metadata": {
  "kernelspec": {
   "display_name": "Python 3",
   "language": "python",
   "name": "python3"
  },
  "language_info": {
   "codemirror_mode": {
    "name": "ipython",
    "version": 3
   },
   "file_extension": ".py",
   "mimetype": "text/x-python",
   "name": "python",
   "nbconvert_exporter": "python",
   "pygments_lexer": "ipython3",
   "version": "3.6.7"
  }
 },
 "nbformat": 4,
 "nbformat_minor": 2
}