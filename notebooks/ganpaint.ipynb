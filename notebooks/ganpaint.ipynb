{
 "cells": [
  {
   "cell_type": "code",
   "execution_count": null,
   "metadata": {},
   "outputs": [],
   "source": [
    "%%bash\n",
    "!(stat -t /usr/local/lib/*/dist-packages/google/colab > /dev/null 2>&1) && exit \n",
    "pip install ninja\n",
    "git clone https://github.com/SIDN-IAP/interactivity.git tutorial_code"
   ]
  },
  {
   "cell_type": "code",
   "execution_count": null,
   "metadata": {},
   "outputs": [],
   "source": [
    "try:\n",
    "    import google.colab, sys, torch\n",
    "    sys.path.append('/content/tutorial_code')\n",
    "    print(\"GPU available\" if torch.cuda.is_available()\n",
    "          else \"Change runtime type to include a GPU.\")\n",
    "except:\n",
    "    pass\n"
   ]
  },
  {
   "cell_type": "code",
   "execution_count": null,
   "metadata": {},
   "outputs": [],
   "source": [
    "from netdissect import nethook, setting, renormalize, zdataset, paintwidget, labwidget\n",
    "\n",
    "# Load a generator, and paint random image number 20 in a widget.\n",
    "G = nethook.InstrumentedModel(setting.load_proggan('church')).cuda()\n",
    "LAYERNAME = 'layer4'\n",
    "TARGET_UNITS = []\n"
   ]
  },
  {
   "cell_type": "code",
   "execution_count": null,
   "metadata": {},
   "outputs": [],
   "source": [
    "probe_z = zdataset.z_sample_for_model(G)[13][None].cuda()\n",
    "prober = paintwidget.PaintWidget(image=renormalize.as_url(G(probe_z)[0]))\n",
    "probe_out = labwidget.Div()\n",
    "display(prober)\n",
    "display(probe_out)\n",
    "\n",
    "G.retain_layer(LAYERNAME)\n",
    "G(probe_z)\n",
    "activations = G.retained_layer(LAYERNAME)\n",
    "\n",
    "def probe_changed(c):\n",
    "    if not prober.mask: return\n",
    "    a = renormalize.from_url(prober.mask, target='pt', size=(8,8))[0]\n",
    "    if a.sum() <= 0.0: return\n",
    "    prober.mask = ''\n",
    "    mean = (activations.cpu()[0] * a[None]).sum(2).sum(1) / (a.sum() + 1e-8)\n",
    "    value, order = mean.sort(0, descending=True)\n",
    "    probe_out.innerHTML = ''\n",
    "    probe_out.print([o.item() for o in order[:10]])\n",
    "    probe_out.print([v.item() for v in value[:10]])\n",
    "    global TARGET_UNITS\n",
    "    TARGET_UNITS = [o.item() for o in order[:10]]\n",
    "prober.on('mask', probe_changed)\n",
    "None"
   ]
  },
  {
   "cell_type": "code",
   "execution_count": null,
   "metadata": {},
   "outputs": [],
   "source": [
    "canvas_z = zdataset.z_sample_for_model(G)[70][None].cuda()\n",
    "canvas = paintwidget.PaintWidget(image=renormalize.as_url(G(canvas_z)[0]))\n",
    "\n",
    "def canvas_changed(c):\n",
    "    global TARGET_UNITS\n",
    "    if not canvas.mask: return\n",
    "    a = renormalize.from_url(canvas.mask, target='pt', size=(8,8))[0]\n",
    "    def editrule(x, imodel, **buffers):\n",
    "        x[:,TARGET_UNITS] += (a * 20.0).to(x.device)\n",
    "        return x\n",
    "    G.edit_layer(LAYERNAME, rule=editrule)\n",
    "    canvas.mask, canvas.image = '', renormalize.as_url(G(canvas_z)[0])\n",
    "    G.remove_edits()\n",
    "canvas.on('mask', canvas_changed)\n",
    "\n",
    "display(canvas)"
   ]
  }
 ],
 "metadata": {
  "kernelspec": {
   "display_name": "Python 3",
   "language": "python",
   "name": "python3"
  },
  "language_info": {
   "codemirror_mode": {
    "name": "ipython",
    "version": 3
   },
   "file_extension": ".py",
   "mimetype": "text/x-python",
   "name": "python",
   "nbconvert_exporter": "python",
   "pygments_lexer": "ipython3",
   "version": "3.6.7"
  }
 },
 "nbformat": 4,
 "nbformat_minor": 2
}